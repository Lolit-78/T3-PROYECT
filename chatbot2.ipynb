{
  "cells": [
    {
      "cell_type": "markdown",
      "metadata": {
        "id": "view-in-github",
        "colab_type": "text"
      },
      "source": [
        "<a href=\"https://colab.research.google.com/github/Lolit-78/T3-PROYECT/blob/main/chatbot2.ipynb\" target=\"_parent\"><img src=\"https://colab.research.google.com/assets/colab-badge.svg\" alt=\"Open In Colab\"/></a>"
      ]
    },
    {
      "cell_type": "code",
      "execution_count": null,
      "metadata": {
        "id": "cXxomzCI59Mj"
      },
      "outputs": [],
      "source": [
        "# Instalación de Hugging Face y otras librerías\n",
        "!pip install --upgrade transformers datasets scikit-learn -q\n"
      ]
    },
    {
      "cell_type": "code",
      "execution_count": null,
      "metadata": {
        "id": "OCjuzMm06ter"
      },
      "outputs": [],
      "source": [
        "from datasets import load_dataset\n",
        "\n",
        "# Cargar el dataset público de intenciones bancarias\n",
        "dataset = load_dataset(\"banking77\")\n"
      ]
    },
    {
      "cell_type": "code",
      "execution_count": null,
      "metadata": {
        "id": "BhRm21Ex60PS"
      },
      "outputs": [],
      "source": [
        "from transformers import AutoTokenizer\n",
        "\n",
        "# Usamos tokenizer base de BERT\n",
        "tokenizer = AutoTokenizer.from_pretrained(\"bert-base-uncased\")\n",
        "\n",
        "# Función para tokenizar cada texto\n",
        "def tokenize(example):\n",
        "    return tokenizer(example[\"text\"], padding=\"max_length\", truncation=True)\n",
        "\n",
        "# Aplicar la tokenización\n",
        "encoded_dataset = dataset.map(tokenize, batched=True)\n"
      ]
    },
    {
      "cell_type": "code",
      "execution_count": null,
      "metadata": {
        "id": "t47-Zv_u7DTg"
      },
      "outputs": [],
      "source": [
        "from transformers import AutoModelForSequenceClassification\n",
        "\n",
        "# Número de clases (77 intenciones bancarias)\n",
        "num_labels = 77\n",
        "\n",
        "# Modelo BERT adaptado para clasificación\n",
        "model = AutoModelForSequenceClassification.from_pretrained(\"bert-base-uncased\", num_labels=num_labels)\n"
      ]
    },
    {
      "cell_type": "code",
      "execution_count": null,
      "metadata": {
        "id": "eY7PAR9y7MnK"
      },
      "outputs": [],
      "source": [
        "import numpy as np\n",
        "from sklearn.metrics import accuracy_score, f1_score\n",
        "\n",
        "# Función para cálculo de métricas\n",
        "def compute_metrics(pred):\n",
        "    preds = np.argmax(pred.predictions, axis=1)\n",
        "    labels = pred.label_ids\n",
        "    return {\n",
        "        \"accuracy\": accuracy_score(labels, preds),\n",
        "        \"f1\": f1_score(labels, preds, average=\"weighted\")\n",
        "    }\n"
      ]
    },
    {
      "cell_type": "code",
      "execution_count": null,
      "metadata": {
        "id": "mr-J9WIo7RME"
      },
      "outputs": [],
      "source": [
        "from transformers import TrainingArguments\n",
        "\n",
        "# Argumentos del entrenamiento\n",
        "training_args = TrainingArguments(\n",
        "    output_dir=\"./banking77_model\",\n",
        "    do_train=True,\n",
        "    do_eval=True,\n",
        "    logging_dir=\"./logs\",\n",
        "    learning_rate=2e-5,\n",
        "    per_device_train_batch_size=16,\n",
        "    per_device_eval_batch_size=16,\n",
        "    num_train_epochs=3,\n",
        "    weight_decay=0.01,\n",
        "    save_strategy=\"epoch\"  # guarda al final de cada época\n",
        ")\n"
      ]
    },
    {
      "cell_type": "code",
      "execution_count": null,
      "metadata": {
        "id": "FAClCEJN7tH3"
      },
      "outputs": [],
      "source": [
        "pip install wandb\n"
      ]
    },
    {
      "cell_type": "code",
      "execution_count": null,
      "metadata": {
        "id": "mmeaQsli9e22"
      },
      "outputs": [],
      "source": [
        "\n",
        "!pip install --upgrade transformers\n"
      ]
    },
    {
      "cell_type": "code",
      "execution_count": null,
      "metadata": {
        "id": "twU_WSas7Uem"
      },
      "outputs": [],
      "source": [
        "from transformers import (\n",
        "    AutoModelForSequenceClassification,\n",
        "    AutoTokenizer,\n",
        "    Trainer,\n",
        "    TrainingArguments,\n",
        "    DataCollatorWithPadding\n",
        ")\n",
        "from datasets import load_dataset\n",
        "\n",
        "# 1. Cargar modelo y tokenizer\n",
        "checkpoint = \"distilbert-base-uncased\"\n",
        "tokenizer = AutoTokenizer.from_pretrained(checkpoint)\n",
        "model = AutoModelForSequenceClassification.from_pretrained(checkpoint, num_labels=2)\n",
        "\n",
        "# 2. Cargar y tokenizar datos\n",
        "dataset = load_dataset(\"imdb\")\n",
        "def tokenize_function(example):\n",
        "    return tokenizer(example[\"text\"], truncation=True)\n",
        "\n",
        "tokenized_datasets = dataset.map(tokenize_function, batched=True)\n",
        "\n",
        "# 3. Usar DataCollator (evita pasar tokenizer directamente al Trainer)\n",
        "data_collator = DataCollatorWithPadding(tokenizer=tokenizer)\n",
        "\n",
        "# 4. Configurar TrainingArguments\n",
        "training_args = TrainingArguments(\n",
        "    output_dir=\"./results\",\n",
        "    eval_strategy=\"epoch\", # Changed from evaluation_strategy to eval_strategy\n",
        "    save_strategy=\"epoch\",\n",
        "    per_device_train_batch_size=16,\n",
        "    per_device_eval_batch_size=16,\n",
        "    num_train_epochs=3,\n",
        "    logging_dir=\"./logs\",\n",
        "    report_to=\"none\"\n",
        ")\n",
        "\n",
        "# 5. Crear Trainer\n",
        "trainer = Trainer(\n",
        "    model=model,\n",
        "    args=training_args,\n",
        "    train_dataset=tokenized_datasets[\"train\"].shuffle(seed=42).select(range(2000)),  # Ejemplo reducido\n",
        "    eval_dataset=tokenized_datasets[\"test\"].select(range(500)),\n",
        "    data_collator=data_collator,\n",
        "    tokenizer=tokenizer\n",
        ")\n",
        "\n",
        "# 6. Entrenar modelo\n",
        "trainer.train()"
      ]
    },
    {
      "cell_type": "code",
      "source": [
        "# Guardar modelo y tokenizer en carpeta local\n",
        "model.to('cpu').save_pretrained(\"modelo_banking77\")\n",
        "tokenizer.save_pretrained(\"modelo_banking77\")"
      ],
      "metadata": {
        "id": "O2MwtK9BqOFr"
      },
      "execution_count": null,
      "outputs": []
    },
    {
      "cell_type": "code",
      "source": [
        "from transformers import pipeline\n",
        "\n",
        "# Crear pipeline de clasificación con el modelo entrenado\n",
        "clasifier = pipeline(\"text-classification\", model=\"modelo_banking77\", tokenizer=\"modelo_banking77\")\n",
        "\n",
        "# Frase de prueba\n",
        "phrase = \"I want to check my account balance\"\n",
        "result = clasifier(phrase)\n",
        "print(\"Prediction:\", result)\n",
        "\n"
      ],
      "metadata": {
        "id": "IyhyMUoyrEeP"
      },
      "execution_count": null,
      "outputs": []
    },
    {
      "cell_type": "code",
      "source": [
        "phrases = [\n",
        "    \"I lost my debit card and need a replacement\",\n",
        "    \"I want to transfer 500 dollars to another account\",\n",
        "    \"How can I check my account balance?\",\n",
        "    \"Where is the closest ATM near me?\",\n",
        "    \"I forgot my PIN code\",\n",
        "    \"Can I open a savings account online?\",\n",
        "    \"What is the interest rate for home loans?\",\n",
        "    \"I need help logging into my online banking\",\n",
        "    \"Cancel my credit card immediately\"\n",
        "]\n",
        "\n",
        "for phrase in phrases:\n",
        "    result = clasifier(phrase)\n",
        "    print(f\"\\nCustomer: {phrase}\")\n",
        "    print(\"Detected intent:\", result)\n"
      ],
      "metadata": {
        "id": "gGbFHk--rMZW"
      },
      "execution_count": null,
      "outputs": []
    }
  ],
  "metadata": {
    "colab": {
      "provenance": [],
      "gpuType": "V5E1",
      "include_colab_link": true
    },
    "kernelspec": {
      "display_name": "Python 3",
      "name": "python3"
    },
    "language_info": {
      "name": "python"
    },
    "accelerator": "TPU"
  },
  "nbformat": 4,
  "nbformat_minor": 0
}